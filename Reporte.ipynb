{
 "cells": [
  {
   "cell_type": "code",
   "execution_count": 38,
   "metadata": {},
   "outputs": [],
   "source": [
    "#Importando librerias \n",
    "\n",
    "import datapane as dp\n",
    "import pandas as pd\n",
    "from pytrends.request import TrendReq\n",
    "import altair as alt\n",
    "\n",
    "pytrends = TrendReq()\n",
    "kw_list = dp.Params.get('query', 'dataisbeautiful')"
   ]
  },
  {
   "cell_type": "code",
   "execution_count": 3,
   "metadata": {},
   "outputs": [],
   "source": [
    "#Inicializo conexion de pytrend\n",
    "\n",
    "pytrend = TrendReq()"
   ]
  },
  {
   "cell_type": "code",
   "execution_count": 72,
   "metadata": {},
   "outputs": [
    {
     "name": "stdout",
     "output_type": "stream",
     "text": [
      "Ingrese la palabra que desea buscar en Google: Infobae\n"
     ]
    }
   ],
   "source": [
    "#Ingresa la palabra que quiere realmente buscar\n",
    "\n",
    "kw_list = input('Ingrese la palabra que desea buscar en Google: ')"
   ]
  },
  {
   "cell_type": "code",
   "execution_count": 73,
   "metadata": {},
   "outputs": [],
   "source": [
    "#Busca la palabra correspondiente\n",
    "\n",
    "pytrend.build_payload(kw_list=[kw_list], timeframe='today 12-m', geo = 'AR')\n"
   ]
  },
  {
   "cell_type": "code",
   "execution_count": 74,
   "metadata": {},
   "outputs": [],
   "source": [
    "#Lo convierte en dataframe \n",
    "\n",
    "r_o_t = pytrend.interest_over_time().reset_index()\n"
   ]
  },
  {
   "cell_type": "code",
   "execution_count": 75,
   "metadata": {},
   "outputs": [],
   "source": [
    "#Busca tabla y reporte \n",
    "\n",
    "regions = pytrend.interest_by_region(resolution='REGION', inc_geo_code=True)\n"
   ]
  },
  {
   "cell_type": "code",
   "execution_count": 76,
   "metadata": {},
   "outputs": [],
   "source": [
    "geo = regions[regions[kw_list] > 0].reset_index()\n"
   ]
  },
  {
   "cell_type": "code",
   "execution_count": 77,
   "metadata": {},
   "outputs": [
    {
     "data": {
      "text/html": [
       "<div>\n",
       "<style scoped>\n",
       "    .dataframe tbody tr th:only-of-type {\n",
       "        vertical-align: middle;\n",
       "    }\n",
       "\n",
       "    .dataframe tbody tr th {\n",
       "        vertical-align: top;\n",
       "    }\n",
       "\n",
       "    .dataframe thead th {\n",
       "        text-align: right;\n",
       "    }\n",
       "</style>\n",
       "<table border=\"1\" class=\"dataframe\">\n",
       "  <thead>\n",
       "    <tr style=\"text-align: right;\">\n",
       "      <th></th>\n",
       "      <th>geoName</th>\n",
       "      <th>geoCode</th>\n",
       "      <th>Infobae</th>\n",
       "    </tr>\n",
       "  </thead>\n",
       "  <tbody>\n",
       "    <tr>\n",
       "      <th>0</th>\n",
       "      <td>Autonomous City of Buenos Aires</td>\n",
       "      <td>AR-C</td>\n",
       "      <td>100</td>\n",
       "    </tr>\n",
       "    <tr>\n",
       "      <th>1</th>\n",
       "      <td>Buenos Aires Province</td>\n",
       "      <td>AR-B</td>\n",
       "      <td>53</td>\n",
       "    </tr>\n",
       "    <tr>\n",
       "      <th>2</th>\n",
       "      <td>Catamarca Province</td>\n",
       "      <td>AR-K</td>\n",
       "      <td>39</td>\n",
       "    </tr>\n",
       "    <tr>\n",
       "      <th>3</th>\n",
       "      <td>Chaco Province</td>\n",
       "      <td>AR-H</td>\n",
       "      <td>44</td>\n",
       "    </tr>\n",
       "    <tr>\n",
       "      <th>4</th>\n",
       "      <td>Chubut Province</td>\n",
       "      <td>AR-U</td>\n",
       "      <td>52</td>\n",
       "    </tr>\n",
       "    <tr>\n",
       "      <th>5</th>\n",
       "      <td>Cordoba</td>\n",
       "      <td>AR-X</td>\n",
       "      <td>43</td>\n",
       "    </tr>\n",
       "    <tr>\n",
       "      <th>6</th>\n",
       "      <td>Corrientes Province</td>\n",
       "      <td>AR-W</td>\n",
       "      <td>39</td>\n",
       "    </tr>\n",
       "    <tr>\n",
       "      <th>7</th>\n",
       "      <td>Entre Rios</td>\n",
       "      <td>AR-E</td>\n",
       "      <td>49</td>\n",
       "    </tr>\n",
       "    <tr>\n",
       "      <th>8</th>\n",
       "      <td>Formosa Province</td>\n",
       "      <td>AR-P</td>\n",
       "      <td>40</td>\n",
       "    </tr>\n",
       "    <tr>\n",
       "      <th>9</th>\n",
       "      <td>Jujuy</td>\n",
       "      <td>AR-Y</td>\n",
       "      <td>30</td>\n",
       "    </tr>\n",
       "    <tr>\n",
       "      <th>10</th>\n",
       "      <td>La Pampa Province</td>\n",
       "      <td>AR-L</td>\n",
       "      <td>65</td>\n",
       "    </tr>\n",
       "    <tr>\n",
       "      <th>11</th>\n",
       "      <td>La Rioja Province</td>\n",
       "      <td>AR-F</td>\n",
       "      <td>46</td>\n",
       "    </tr>\n",
       "    <tr>\n",
       "      <th>12</th>\n",
       "      <td>Mendoza Province</td>\n",
       "      <td>AR-M</td>\n",
       "      <td>32</td>\n",
       "    </tr>\n",
       "    <tr>\n",
       "      <th>13</th>\n",
       "      <td>Misiones Province</td>\n",
       "      <td>AR-N</td>\n",
       "      <td>41</td>\n",
       "    </tr>\n",
       "    <tr>\n",
       "      <th>14</th>\n",
       "      <td>Neuquen</td>\n",
       "      <td>AR-Q</td>\n",
       "      <td>50</td>\n",
       "    </tr>\n",
       "    <tr>\n",
       "      <th>15</th>\n",
       "      <td>Río Negro</td>\n",
       "      <td>AR-R</td>\n",
       "      <td>52</td>\n",
       "    </tr>\n",
       "    <tr>\n",
       "      <th>16</th>\n",
       "      <td>Salta Province</td>\n",
       "      <td>AR-A</td>\n",
       "      <td>34</td>\n",
       "    </tr>\n",
       "    <tr>\n",
       "      <th>17</th>\n",
       "      <td>San Juan Province</td>\n",
       "      <td>AR-J</td>\n",
       "      <td>42</td>\n",
       "    </tr>\n",
       "    <tr>\n",
       "      <th>18</th>\n",
       "      <td>San Luis Province</td>\n",
       "      <td>AR-D</td>\n",
       "      <td>43</td>\n",
       "    </tr>\n",
       "    <tr>\n",
       "      <th>19</th>\n",
       "      <td>Santa Cruz Province</td>\n",
       "      <td>AR-Z</td>\n",
       "      <td>45</td>\n",
       "    </tr>\n",
       "    <tr>\n",
       "      <th>20</th>\n",
       "      <td>Santa Fe Province</td>\n",
       "      <td>AR-S</td>\n",
       "      <td>52</td>\n",
       "    </tr>\n",
       "    <tr>\n",
       "      <th>21</th>\n",
       "      <td>Santiago del Estero Province</td>\n",
       "      <td>AR-G</td>\n",
       "      <td>30</td>\n",
       "    </tr>\n",
       "    <tr>\n",
       "      <th>22</th>\n",
       "      <td>Tierra del Fuego Province</td>\n",
       "      <td>AR-V</td>\n",
       "      <td>51</td>\n",
       "    </tr>\n",
       "    <tr>\n",
       "      <th>23</th>\n",
       "      <td>Tucumán</td>\n",
       "      <td>AR-T</td>\n",
       "      <td>43</td>\n",
       "    </tr>\n",
       "  </tbody>\n",
       "</table>\n",
       "</div>"
      ],
      "text/plain": [
       "                            geoName geoCode  Infobae\n",
       "0   Autonomous City of Buenos Aires    AR-C      100\n",
       "1             Buenos Aires Province    AR-B       53\n",
       "2                Catamarca Province    AR-K       39\n",
       "3                    Chaco Province    AR-H       44\n",
       "4                   Chubut Province    AR-U       52\n",
       "5                           Cordoba    AR-X       43\n",
       "6               Corrientes Province    AR-W       39\n",
       "7                        Entre Rios    AR-E       49\n",
       "8                  Formosa Province    AR-P       40\n",
       "9                             Jujuy    AR-Y       30\n",
       "10                La Pampa Province    AR-L       65\n",
       "11                La Rioja Province    AR-F       46\n",
       "12                 Mendoza Province    AR-M       32\n",
       "13                Misiones Province    AR-N       41\n",
       "14                          Neuquen    AR-Q       50\n",
       "15                        Río Negro    AR-R       52\n",
       "16                   Salta Province    AR-A       34\n",
       "17                San Juan Province    AR-J       42\n",
       "18                San Luis Province    AR-D       43\n",
       "19              Santa Cruz Province    AR-Z       45\n",
       "20                Santa Fe Province    AR-S       52\n",
       "21     Santiago del Estero Province    AR-G       30\n",
       "22        Tierra del Fuego Province    AR-V       51\n",
       "23                          Tucumán    AR-T       43"
      ]
     },
     "execution_count": 77,
     "metadata": {},
     "output_type": "execute_result"
    }
   ],
   "source": [
    "geo"
   ]
  },
  {
   "cell_type": "code",
   "execution_count": 96,
   "metadata": {},
   "outputs": [
    {
     "data": {
      "text/html": [
       "\n",
       "<div id=\"altair-viz-7da97a8b664f49cfb79289d2d907d810\"></div>\n",
       "<script type=\"text/javascript\">\n",
       "  (function(spec, embedOpt){\n",
       "    let outputDiv = document.currentScript.previousElementSibling;\n",
       "    if (outputDiv.id !== \"altair-viz-7da97a8b664f49cfb79289d2d907d810\") {\n",
       "      outputDiv = document.getElementById(\"altair-viz-7da97a8b664f49cfb79289d2d907d810\");\n",
       "    }\n",
       "    const paths = {\n",
       "      \"vega\": \"https://cdn.jsdelivr.net/npm//vega@5?noext\",\n",
       "      \"vega-lib\": \"https://cdn.jsdelivr.net/npm//vega-lib?noext\",\n",
       "      \"vega-lite\": \"https://cdn.jsdelivr.net/npm//vega-lite@4.8.1?noext\",\n",
       "      \"vega-embed\": \"https://cdn.jsdelivr.net/npm//vega-embed@6?noext\",\n",
       "    };\n",
       "\n",
       "    function loadScript(lib) {\n",
       "      return new Promise(function(resolve, reject) {\n",
       "        var s = document.createElement('script');\n",
       "        s.src = paths[lib];\n",
       "        s.async = true;\n",
       "        s.onload = () => resolve(paths[lib]);\n",
       "        s.onerror = () => reject(`Error loading script: ${paths[lib]}`);\n",
       "        document.getElementsByTagName(\"head\")[0].appendChild(s);\n",
       "      });\n",
       "    }\n",
       "\n",
       "    function showError(err) {\n",
       "      outputDiv.innerHTML = `<div class=\"error\" style=\"color:red;\">${err}</div>`;\n",
       "      throw err;\n",
       "    }\n",
       "\n",
       "    function displayChart(vegaEmbed) {\n",
       "      vegaEmbed(outputDiv, spec, embedOpt)\n",
       "        .catch(err => showError(`Javascript Error: ${err.message}<br>This usually means there's a typo in your chart specification. See the javascript console for the full traceback.`));\n",
       "    }\n",
       "\n",
       "    if(typeof define === \"function\" && define.amd) {\n",
       "      requirejs.config({paths});\n",
       "      require([\"vega-embed\"], displayChart, err => showError(`Error loading script: ${err.message}`));\n",
       "    } else if (typeof vegaEmbed === \"function\") {\n",
       "      displayChart(vegaEmbed);\n",
       "    } else {\n",
       "      loadScript(\"vega\")\n",
       "        .then(() => loadScript(\"vega-lite\"))\n",
       "        .then(() => loadScript(\"vega-embed\"))\n",
       "        .catch(showError)\n",
       "        .then(() => displayChart(vegaEmbed));\n",
       "    }\n",
       "  })({\"config\": {\"view\": {\"continuousWidth\": 400, \"continuousHeight\": 300}}, \"data\": {\"name\": \"data-94012e7137deda4d5299625068c7a9c3\"}, \"mark\": {\"type\": \"area\", \"color\": \"blue\", \"line\": true, \"opacity\": 0.2}, \"encoding\": {\"x\": {\"type\": \"temporal\", \"field\": \"date\"}, \"y\": {\"type\": \"quantitative\", \"field\": \"Infobae\"}}, \"selection\": {\"selector034\": {\"type\": \"interval\", \"bind\": \"scales\", \"encodings\": [\"x\", \"y\"]}}, \"width\": 900, \"$schema\": \"https://vega.github.io/schema/vega-lite/v4.8.1.json\", \"datasets\": {\"data-94012e7137deda4d5299625068c7a9c3\": [{\"date\": \"2019-08-04T00:00:00\", \"Infobae\": 49, \"isPartial\": \"False\"}, {\"date\": \"2019-08-11T00:00:00\", \"Infobae\": 81, \"isPartial\": \"False\"}, {\"date\": \"2019-08-18T00:00:00\", \"Infobae\": 60, \"isPartial\": \"False\"}, {\"date\": \"2019-08-25T00:00:00\", \"Infobae\": 62, \"isPartial\": \"False\"}, {\"date\": \"2019-09-01T00:00:00\", \"Infobae\": 57, \"isPartial\": \"False\"}, {\"date\": \"2019-09-08T00:00:00\", \"Infobae\": 55, \"isPartial\": \"False\"}, {\"date\": \"2019-09-15T00:00:00\", \"Infobae\": 53, \"isPartial\": \"False\"}, {\"date\": \"2019-09-22T00:00:00\", \"Infobae\": 52, \"isPartial\": \"False\"}, {\"date\": \"2019-09-29T00:00:00\", \"Infobae\": 48, \"isPartial\": \"False\"}, {\"date\": \"2019-10-06T00:00:00\", \"Infobae\": 49, \"isPartial\": \"False\"}, {\"date\": \"2019-10-13T00:00:00\", \"Infobae\": 53, \"isPartial\": \"False\"}, {\"date\": \"2019-10-20T00:00:00\", \"Infobae\": 58, \"isPartial\": \"False\"}, {\"date\": \"2019-10-27T00:00:00\", \"Infobae\": 64, \"isPartial\": \"False\"}, {\"date\": \"2019-11-03T00:00:00\", \"Infobae\": 47, \"isPartial\": \"False\"}, {\"date\": \"2019-11-10T00:00:00\", \"Infobae\": 52, \"isPartial\": \"False\"}, {\"date\": \"2019-11-17T00:00:00\", \"Infobae\": 49, \"isPartial\": \"False\"}, {\"date\": \"2019-11-24T00:00:00\", \"Infobae\": 51, \"isPartial\": \"False\"}, {\"date\": \"2019-12-01T00:00:00\", \"Infobae\": 49, \"isPartial\": \"False\"}, {\"date\": \"2019-12-08T00:00:00\", \"Infobae\": 60, \"isPartial\": \"False\"}, {\"date\": \"2019-12-15T00:00:00\", \"Infobae\": 60, \"isPartial\": \"False\"}, {\"date\": \"2019-12-22T00:00:00\", \"Infobae\": 53, \"isPartial\": \"False\"}, {\"date\": \"2019-12-29T00:00:00\", \"Infobae\": 52, \"isPartial\": \"False\"}, {\"date\": \"2020-01-05T00:00:00\", \"Infobae\": 56, \"isPartial\": \"False\"}, {\"date\": \"2020-01-12T00:00:00\", \"Infobae\": 50, \"isPartial\": \"False\"}, {\"date\": \"2020-01-19T00:00:00\", \"Infobae\": 57, \"isPartial\": \"False\"}, {\"date\": \"2020-01-26T00:00:00\", \"Infobae\": 58, \"isPartial\": \"False\"}, {\"date\": \"2020-02-02T00:00:00\", \"Infobae\": 54, \"isPartial\": \"False\"}, {\"date\": \"2020-02-09T00:00:00\", \"Infobae\": 55, \"isPartial\": \"False\"}, {\"date\": \"2020-02-16T00:00:00\", \"Infobae\": 53, \"isPartial\": \"False\"}, {\"date\": \"2020-02-23T00:00:00\", \"Infobae\": 51, \"isPartial\": \"False\"}, {\"date\": \"2020-03-01T00:00:00\", \"Infobae\": 54, \"isPartial\": \"False\"}, {\"date\": \"2020-03-08T00:00:00\", \"Infobae\": 65, \"isPartial\": \"False\"}, {\"date\": \"2020-03-15T00:00:00\", \"Infobae\": 100, \"isPartial\": \"False\"}, {\"date\": \"2020-03-22T00:00:00\", \"Infobae\": 79, \"isPartial\": \"False\"}, {\"date\": \"2020-03-29T00:00:00\", \"Infobae\": 66, \"isPartial\": \"False\"}, {\"date\": \"2020-04-05T00:00:00\", \"Infobae\": 60, \"isPartial\": \"False\"}, {\"date\": \"2020-04-12T00:00:00\", \"Infobae\": 56, \"isPartial\": \"False\"}, {\"date\": \"2020-04-19T00:00:00\", \"Infobae\": 55, \"isPartial\": \"False\"}, {\"date\": \"2020-04-26T00:00:00\", \"Infobae\": 54, \"isPartial\": \"False\"}, {\"date\": \"2020-05-03T00:00:00\", \"Infobae\": 49, \"isPartial\": \"False\"}, {\"date\": \"2020-05-10T00:00:00\", \"Infobae\": 49, \"isPartial\": \"False\"}, {\"date\": \"2020-05-17T00:00:00\", \"Infobae\": 51, \"isPartial\": \"False\"}, {\"date\": \"2020-05-24T00:00:00\", \"Infobae\": 51, \"isPartial\": \"False\"}, {\"date\": \"2020-05-31T00:00:00\", \"Infobae\": 48, \"isPartial\": \"False\"}, {\"date\": \"2020-06-07T00:00:00\", \"Infobae\": 49, \"isPartial\": \"False\"}, {\"date\": \"2020-06-14T00:00:00\", \"Infobae\": 52, \"isPartial\": \"False\"}, {\"date\": \"2020-06-21T00:00:00\", \"Infobae\": 54, \"isPartial\": \"False\"}, {\"date\": \"2020-06-28T00:00:00\", \"Infobae\": 49, \"isPartial\": \"False\"}, {\"date\": \"2020-07-05T00:00:00\", \"Infobae\": 50, \"isPartial\": \"False\"}, {\"date\": \"2020-07-12T00:00:00\", \"Infobae\": 51, \"isPartial\": \"False\"}, {\"date\": \"2020-07-19T00:00:00\", \"Infobae\": 51, \"isPartial\": \"False\"}, {\"date\": \"2020-07-26T00:00:00\", \"Infobae\": 48, \"isPartial\": \"True\"}]}}, {\"mode\": \"vega-lite\"});\n",
       "</script>"
      ],
      "text/plain": [
       "alt.Chart(...)"
      ]
     },
     "execution_count": 96,
     "metadata": {},
     "output_type": "execute_result"
    }
   ],
   "source": [
    "r_o_t_plot = alt.Chart(r_o_t).encode(x='date', y= kw_list).mark_area(line=True, color= \"blue\", opacity = 0.2).interactive().properties(width=900)\n",
    "r_o_t_plot"
   ]
  },
  {
   "cell_type": "code",
   "execution_count": 97,
   "metadata": {},
   "outputs": [],
   "source": [
    "root = alt.Chart(r_o_t)"
   ]
  },
  {
   "cell_type": "code",
   "execution_count": 98,
   "metadata": {},
   "outputs": [
    {
     "ename": "SchemaValidationError",
     "evalue": "Invalid specification\n\n        altair.vegalite.v4.api.Chart, validating 'required'\n\n        'mark' is a required property\n        ",
     "output_type": "error",
     "traceback": [
      "\u001b[0;31m---------------------------------------------------------------------------\u001b[0m",
      "\u001b[0;31mSchemaValidationError\u001b[0m                     Traceback (most recent call last)",
      "\u001b[0;32m/anaconda3/lib/python3.6/site-packages/altair/vegalite/v4/api.py\u001b[0m in \u001b[0;36mto_dict\u001b[0;34m(self, *args, **kwargs)\u001b[0m\n\u001b[1;32m    380\u001b[0m         \u001b[0;32mif\u001b[0m \u001b[0mdct\u001b[0m \u001b[0;32mis\u001b[0m \u001b[0;32mNone\u001b[0m\u001b[0;34m:\u001b[0m\u001b[0;34m\u001b[0m\u001b[0;34m\u001b[0m\u001b[0m\n\u001b[1;32m    381\u001b[0m             \u001b[0mkwargs\u001b[0m\u001b[0;34m[\u001b[0m\u001b[0;34m\"validate\"\u001b[0m\u001b[0;34m]\u001b[0m \u001b[0;34m=\u001b[0m \u001b[0;34m\"deep\"\u001b[0m\u001b[0;34m\u001b[0m\u001b[0;34m\u001b[0m\u001b[0m\n\u001b[0;32m--> 382\u001b[0;31m             \u001b[0mdct\u001b[0m \u001b[0;34m=\u001b[0m \u001b[0msuper\u001b[0m\u001b[0;34m(\u001b[0m\u001b[0mTopLevelMixin\u001b[0m\u001b[0;34m,\u001b[0m \u001b[0mcopy\u001b[0m\u001b[0;34m)\u001b[0m\u001b[0;34m.\u001b[0m\u001b[0mto_dict\u001b[0m\u001b[0;34m(\u001b[0m\u001b[0;34m*\u001b[0m\u001b[0margs\u001b[0m\u001b[0;34m,\u001b[0m \u001b[0;34m**\u001b[0m\u001b[0mkwargs\u001b[0m\u001b[0;34m)\u001b[0m\u001b[0;34m\u001b[0m\u001b[0;34m\u001b[0m\u001b[0m\n\u001b[0m\u001b[1;32m    383\u001b[0m \u001b[0;34m\u001b[0m\u001b[0m\n\u001b[1;32m    384\u001b[0m         \u001b[0;31m# TODO: following entries are added after validation. Should they be validated?\u001b[0m\u001b[0;34m\u001b[0m\u001b[0;34m\u001b[0m\u001b[0;34m\u001b[0m\u001b[0m\n",
      "\u001b[0;32m/anaconda3/lib/python3.6/site-packages/altair/utils/schemapi.py\u001b[0m in \u001b[0;36mto_dict\u001b[0;34m(self, validate, ignore, context)\u001b[0m\n\u001b[1;32m    337\u001b[0m                 \u001b[0mself\u001b[0m\u001b[0;34m.\u001b[0m\u001b[0mvalidate\u001b[0m\u001b[0;34m(\u001b[0m\u001b[0mresult\u001b[0m\u001b[0;34m)\u001b[0m\u001b[0;34m\u001b[0m\u001b[0;34m\u001b[0m\u001b[0m\n\u001b[1;32m    338\u001b[0m             \u001b[0;32mexcept\u001b[0m \u001b[0mjsonschema\u001b[0m\u001b[0;34m.\u001b[0m\u001b[0mValidationError\u001b[0m \u001b[0;32mas\u001b[0m \u001b[0merr\u001b[0m\u001b[0;34m:\u001b[0m\u001b[0;34m\u001b[0m\u001b[0;34m\u001b[0m\u001b[0m\n\u001b[0;32m--> 339\u001b[0;31m                 \u001b[0;32mraise\u001b[0m \u001b[0mSchemaValidationError\u001b[0m\u001b[0;34m(\u001b[0m\u001b[0mself\u001b[0m\u001b[0;34m,\u001b[0m \u001b[0merr\u001b[0m\u001b[0;34m)\u001b[0m\u001b[0;34m\u001b[0m\u001b[0;34m\u001b[0m\u001b[0m\n\u001b[0m\u001b[1;32m    340\u001b[0m         \u001b[0;32mreturn\u001b[0m \u001b[0mresult\u001b[0m\u001b[0;34m\u001b[0m\u001b[0;34m\u001b[0m\u001b[0m\n\u001b[1;32m    341\u001b[0m \u001b[0;34m\u001b[0m\u001b[0m\n",
      "\u001b[0;31mSchemaValidationError\u001b[0m: Invalid specification\n\n        altair.vegalite.v4.api.Chart, validating 'required'\n\n        'mark' is a required property\n        "
     ]
    },
    {
     "data": {
      "text/plain": [
       "alt.Chart(...)"
      ]
     },
     "execution_count": 98,
     "metadata": {},
     "output_type": "execute_result"
    }
   ],
   "source": [
    "root"
   ]
  },
  {
   "cell_type": "code",
   "execution_count": null,
   "metadata": {},
   "outputs": [],
   "source": []
  }
 ],
 "metadata": {
  "kernelspec": {
   "display_name": "Python 3",
   "language": "python",
   "name": "python3"
  },
  "language_info": {
   "codemirror_mode": {
    "name": "ipython",
    "version": 3
   },
   "file_extension": ".py",
   "mimetype": "text/x-python",
   "name": "python",
   "nbconvert_exporter": "python",
   "pygments_lexer": "ipython3",
   "version": "3.6.9"
  }
 },
 "nbformat": 4,
 "nbformat_minor": 4
}
